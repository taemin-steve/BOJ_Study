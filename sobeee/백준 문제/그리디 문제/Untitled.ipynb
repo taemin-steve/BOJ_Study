{
 "cells": [
  {
   "cell_type": "code",
   "execution_count": 1,
   "id": "540b9327",
   "metadata": {},
   "outputs": [],
   "source": [
    "import sys\n",
    "\n",
    "def input():\n",
    "    return sys.stdin.readline().strip()"
   ]
  },
  {
   "cell_type": "code",
   "execution_count": 3,
   "id": "17b24375",
   "metadata": {
    "scrolled": true
   },
   "outputs": [],
   "source": [
    "#N = int(input())\n",
    "N = 5"
   ]
  },
  {
   "cell_type": "code",
   "execution_count": 5,
   "id": "f55342cd",
   "metadata": {},
   "outputs": [
    {
     "name": "stdout",
     "output_type": "stream",
     "text": [
      "[0, 1, 2, 3, 4]\n"
     ]
    }
   ],
   "source": [
    "number_of_people = [i for i in range(N)]\n",
    "print(number_of_people)"
   ]
  },
  {
   "cell_type": "code",
   "execution_count": null,
   "id": "74cc1f41",
   "metadata": {},
   "outputs": [],
   "source": [
    "time_list = map(int, input().split)"
   ]
  }
 ],
 "metadata": {
  "kernelspec": {
   "display_name": "Python 3",
   "language": "python",
   "name": "python3"
  },
  "language_info": {
   "codemirror_mode": {
    "name": "ipython",
    "version": 3
   },
   "file_extension": ".py",
   "mimetype": "text/x-python",
   "name": "python",
   "nbconvert_exporter": "python",
   "pygments_lexer": "ipython3",
   "version": "3.8.8"
  }
 },
 "nbformat": 4,
 "nbformat_minor": 5
}
